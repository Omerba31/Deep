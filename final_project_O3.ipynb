{
  "cells": [
    {
      "cell_type": "markdown",
      "metadata": {
        "id": "view-in-github",
        "colab_type": "text"
      },
      "source": [
        "<a href=\"https://colab.research.google.com/github/Omerba31/Deep/blob/main/final_project_O3.ipynb\" target=\"_parent\"><img src=\"https://colab.research.google.com/assets/colab-badge.svg\" alt=\"Open In Colab\"/></a>"
      ]
    },
    {
      "cell_type": "markdown",
      "metadata": {
        "id": "OxD7EpUX__Gf"
      },
      "source": [
        "***imports***"
      ]
    },
    {
      "cell_type": "code",
      "execution_count": null,
      "metadata": {
        "id": "FHaWSKkKY9kJ"
      },
      "outputs": [],
      "source": [
        "import torch\n",
        "import torch.nn as nn\n",
        "import torch.nn.functional as F\n",
        "import torch.optim as optim\n",
        "from torch.utils.data import DataLoader, Dataset, random_split, Subset\n",
        "from torchvision.datasets import MNIST, FashionMNIST, CIFAR10, EMNIST, USPS,SVHN\n",
        "from torchvision import transforms\n",
        "import numpy as np\n",
        "import random\n",
        "from sklearn.cluster import DBSCAN\n",
        "import matplotlib.pyplot as plt\n",
        "import seaborn as sns\n",
        "from sklearn.metrics import confusion_matrix\n",
        "from sklearn.manifold import TSNE\n",
        "from torch.utils.data import ConcatDataset"
      ]
    },
    {
      "cell_type": "markdown",
      "metadata": {
        "id": "1XW1ao2MAinu"
      },
      "source": [
        "***Configuration and Environment Setup***"
      ]
    },
    {
      "cell_type": "code",
      "execution_count": null,
      "metadata": {
        "colab": {
          "base_uri": "https://localhost:8080/"
        },
        "id": "QVqL7KPMZIlv",
        "outputId": "7493cdf6-dfd1-4492-c459-7969815361c7"
      },
      "outputs": [
        {
          "output_type": "stream",
          "name": "stdout",
          "text": [
            "Using device: cuda\n"
          ]
        }
      ],
      "source": [
        "SEED = 42\n",
        "random.seed(SEED)\n",
        "np.random.seed(SEED)\n",
        "torch.manual_seed(SEED)\n",
        "\n",
        "device = torch.device(\"cuda\" if torch.cuda.is_available() else \"cpu\")\n",
        "print(\"Using device:\", device)\n",
        "\n",
        "#eval_mode = False\n",
        "eval_mode = True\n",
        "\n",
        "epochs = 5\n",
        "lr = 1e-3\n",
        "batch_size = 128\n",
        "embedding_dim = 64\n",
        "triplet_alpha = 1.0  # Weight for Triplet Loss\n",
        "\n",
        "num_ood_val = 600\n",
        "num_ood_test = 1000"
      ]
    },
    {
      "cell_type": "markdown",
      "metadata": {
        "id": "jXKHMwqMArcE"
      },
      "source": [
        "***Datasets Combination***"
      ]
    },
    {
      "cell_type": "code",
      "execution_count": null,
      "metadata": {
        "id": "Ab9Y6HYVZVZP"
      },
      "outputs": [],
      "source": [
        "class CombineDataset(Dataset):\n",
        "\n",
        "    def __init__(self, ds_in, ds_ood):\n",
        "        self.ds_in = ds_in\n",
        "        self.ds_ood = ds_ood\n",
        "\n",
        "    def __len__(self):\n",
        "        return len(self.ds_in) + len(self.ds_ood)\n",
        "\n",
        "    def __getitem__(self, idx):\n",
        "        if idx < len(self.ds_in):\n",
        "            data, label = self.ds_in[idx]\n",
        "            return data, label\n",
        "        else:\n",
        "            data, _ = self.ds_ood[idx - len(self.ds_in)]\n",
        "            return data, 10"
      ]
    },
    {
      "cell_type": "markdown",
      "metadata": {
        "id": "rHG7-2fMCG3e"
      },
      "source": [
        "***Evaluation Function***"
      ]
    },
    {
      "cell_type": "code",
      "execution_count": null,
      "metadata": {
        "id": "-g4x7uq6ZXtw"
      },
      "outputs": [],
      "source": [
        "def eval_model(model, data_loader, device):\n",
        "\n",
        "    model.eval()\n",
        "    correct_mnist = 0\n",
        "    total_mnist = 0\n",
        "    correct_ood = 0\n",
        "    total_ood = 0\n",
        "\n",
        "    with torch.no_grad():\n",
        "        for data, labels in data_loader:\n",
        "            data, labels = data.to(device), labels.to(device)\n",
        "            outputs = model(data)  # shape (N,11)\n",
        "            _, y_pred = torch.max(outputs, dim=1)\n",
        "\n",
        "            mask_in = (labels < 10) # MNIST\n",
        "            mask_ood = (labels == 10) # OOD\n",
        "\n",
        "            labels_in = labels[mask_in]\n",
        "            labels_ood = labels[mask_ood]\n",
        "            pred_in = y_pred[mask_in]\n",
        "            pred_ood = y_pred[mask_ood]\n",
        "\n",
        "            total_mnist += labels_in.size(0)\n",
        "            correct_mnist += (pred_in == labels_in).sum().item()\n",
        "\n",
        "            total_ood += labels_ood.size(0)\n",
        "            correct_ood += (pred_ood == labels_ood).sum().item()\n",
        "\n",
        "    acc_mnist = correct_mnist / total_mnist if total_mnist>0 else 0 # mnist Accuracy\n",
        "    acc_ood   = correct_ood / total_ood     if total_ood>0   else 0 # ood Accuracy\n",
        "    acc_total = (correct_mnist + correct_ood) / (total_mnist + total_ood) # overall Accuracy\n",
        "\n",
        "    return acc_mnist, acc_ood, acc_total\n"
      ]
    },
    {
      "cell_type": "markdown",
      "metadata": {
        "id": "Gweo_aLAHqFx"
      },
      "source": [
        "***Net initialization***"
      ]
    },
    {
      "cell_type": "code",
      "execution_count": null,
      "metadata": {
        "id": "7WtnpjA-dVvC"
      },
      "outputs": [],
      "source": [
        "class CNN_EmbeddingNet_Triplet(nn.Module):\n",
        "    def __init__(self, embedding_dim=64, dropout_p=0.3):\n",
        "        super().__init__()\n",
        "        self.device = device\n",
        "        # Convs\n",
        "        self.conv1 = nn.Conv2d(1, 32, 3, padding=1)\n",
        "        self.conv2 = nn.Conv2d(32, 64, 3, padding=1)\n",
        "        self.pool = nn.MaxPool2d(2,2)\n",
        "\n",
        "        # FC\n",
        "        self.fc1 = nn.Linear(64*7*7, 128)\n",
        "        self.dropout = nn.Dropout(dropout_p)\n",
        "        self.fc2 = nn.Linear(128, embedding_dim)\n",
        "\n",
        "        # Classifier\n",
        "        self.classifier = nn.Linear(embedding_dim, 10)\n",
        "\n",
        "    def forward_features(self, x):\n",
        "        x = F.relu(self.conv1(x))\n",
        "        x = self.pool(F.relu(self.conv2(x)))\n",
        "        x = self.pool(x)\n",
        "        x = x.view(x.size(0), -1)\n",
        "        x = F.relu(self.fc1(x))\n",
        "        x = self.dropout(x)\n",
        "        emb = self.fc2(x)\n",
        "        return emb\n",
        "\n",
        "    def forward_classifier(self, emb):\n",
        "        return self.classifier(emb)\n",
        "\n",
        "    def forward_inference_10(self, x):\n",
        "        emb = self.forward_features(x)\n",
        "        logits = self.forward_classifier(emb)\n",
        "        return logits\n",
        "\n",
        "    def forward(self, x):\n",
        "        return self.forward_inference_10(x)\n"
      ]
    },
    {
      "cell_type": "markdown",
      "metadata": {
        "id": "u6XTrBeeH_6i"
      },
      "source": [
        "***Train***"
      ]
    },
    {
      "cell_type": "code",
      "execution_count": null,
      "metadata": {
        "id": "nHkGcoaIZhAH"
      },
      "outputs": [],
      "source": [
        "def train_one_epoch_triplet(model, loader, optimizer, ce_criterion, triplet_margin=1.0, alpha=1.0):\n",
        "    model.train()\n",
        "    triplet_criterion = nn.TripletMarginLoss(margin=triplet_margin, reduction='mean')\n",
        "\n",
        "    running_loss = 0.0\n",
        "    running_ce   = 0.0\n",
        "    running_trip = 0.0\n",
        "    total_samples = 0\n",
        "    correct = 0\n",
        "\n",
        "    for data, labels in loader:\n",
        "        data, labels = data.to(device), labels.to(device)\n",
        "        optimizer.zero_grad()\n",
        "\n",
        "        logits = model.forward_inference_10(data)\n",
        "        ce_loss = ce_criterion(logits, labels)\n",
        "\n",
        "        preds = torch.argmax(logits, dim=1)\n",
        "        correct += (preds == labels).sum().item()\n",
        "        total_samples += labels.size(0)\n",
        "\n",
        "        emb = model.forward_features(data)\n",
        "\n",
        "        anchor_list = []\n",
        "        pos_list = []\n",
        "        neg_list = []\n",
        "\n",
        "        label2indices = {}\n",
        "        for i, lab in enumerate(labels):\n",
        "            lab_i = lab.item()\n",
        "            label2indices.setdefault(lab_i, []).append(i)\n",
        "\n",
        "        for i, lab in enumerate(labels):\n",
        "            anchor_label = lab.item()\n",
        "            if len(label2indices[anchor_label]) < 2:\n",
        "                continue\n",
        "            pos_idx = i\n",
        "            while pos_idx == i:\n",
        "                pos_idx = random.choice(label2indices[anchor_label])\n",
        "\n",
        "            neg_label = anchor_label\n",
        "            while neg_label == anchor_label:\n",
        "                neg_label = random.choice(list(label2indices.keys()))\n",
        "            neg_idx = random.choice(label2indices[neg_label])\n",
        "\n",
        "            anchor_list.append(emb[i].unsqueeze(0))\n",
        "            pos_list.append(emb[pos_idx].unsqueeze(0))\n",
        "            neg_list.append(emb[neg_idx].unsqueeze(0))\n",
        "\n",
        "        if len(anchor_list) > 0:\n",
        "            anchor_t = torch.cat(anchor_list, dim=0)\n",
        "            pos_t = torch.cat(pos_list, dim=0)\n",
        "            neg_t = torch.cat(neg_list, dim=0)\n",
        "            trip_loss = triplet_criterion(anchor_t, pos_t, neg_t)\n",
        "        else:\n",
        "            trip_loss = torch.tensor(0.0, device=device)\n",
        "\n",
        "        total_loss = ce_loss + alpha*trip_loss\n",
        "        total_loss.backward()\n",
        "        optimizer.step()\n",
        "\n",
        "        running_loss += total_loss.item() * data.size(0)\n",
        "        running_ce   += ce_loss.item() * data.size(0)\n",
        "        running_trip += trip_loss.item() * data.size(0)\n",
        "\n",
        "    ep_loss = running_loss / total_samples\n",
        "    ep_ce   = running_ce / total_samples\n",
        "    ep_trip = running_trip / total_samples\n",
        "    ep_acc  = correct / total_samples\n",
        "\n",
        "    return ep_loss, ep_ce, ep_trip, ep_acc"
      ]
    },
    {
      "cell_type": "markdown",
      "metadata": {
        "id": "y6H_PFlRINKC"
      },
      "source": [
        "***Classifier Evaluation***"
      ]
    },
    {
      "cell_type": "code",
      "execution_count": null,
      "metadata": {
        "id": "byaasxxdZipM"
      },
      "outputs": [],
      "source": [
        "def evaluate_classifier(model, loader, ce_criterion):\n",
        "    model.eval()\n",
        "    total_loss = 0\n",
        "    correct = 0\n",
        "    total = 0\n",
        "    with torch.no_grad():\n",
        "        for data, labels in loader:\n",
        "            data, labels = data.to(device), labels.to(device)\n",
        "            logits = model.forward_inference_10(data)\n",
        "            ce_loss = ce_criterion(logits, labels)\n",
        "\n",
        "            total_loss += ce_loss.item() * data.size(0)\n",
        "            preds = torch.argmax(logits, dim=1)\n",
        "            correct += (preds == labels).sum().item()\n",
        "            total += labels.size(0)\n",
        "\n",
        "    return total_loss/total, correct/total"
      ]
    },
    {
      "cell_type": "markdown",
      "metadata": {
        "id": "V4ZnRkZXIYqL"
      },
      "source": [
        "***Clustering***"
      ]
    },
    {
      "cell_type": "code",
      "execution_count": null,
      "metadata": {
        "id": "lwRqS5NzvouK"
      },
      "outputs": [],
      "source": [
        "def compute_dbscan_clusters(model, dataset, eps, min_samples):\n",
        "    \"\"\"\n",
        "    For each class c in 0..9, gather embeddings and run DBSCAN with (eps,min_samples).\n",
        "    Return a dict c -> list of (centroid, radius) for each cluster.\n",
        "    \"\"\"\n",
        "\n",
        "    model.eval()\n",
        "    label2vecs = {c: [] for c in range(10)}\n",
        "\n",
        "    loader = DataLoader(dataset, batch_size=256, shuffle=False)\n",
        "    with torch.no_grad():\n",
        "        for data, labels in loader:\n",
        "            data, labels = data.to(device), labels.to(device)\n",
        "            emb = model.forward_features(data)\n",
        "            emb_np = emb.cpu().numpy()  # shape (B,embedding_dim)\n",
        "            for i, lab in enumerate(labels):\n",
        "                label2vecs[lab.item()].append(emb_np[i])\n",
        "\n",
        "    dbscan_dict = {}\n",
        "    for c in range(10):\n",
        "        arr = np.vstack(label2vecs[c])  # (samples_in_class,embedding_dim)\n",
        "        if len(arr) == 0:\n",
        "            dbscan_dict[c] = []\n",
        "            continue\n",
        "\n",
        "        dbs = DBSCAN(eps=eps, min_samples=min_samples)\n",
        "        cluster_labels = dbs.fit_predict(arr)\n",
        "\n",
        "        clusters_info = []\n",
        "        unique_labels = set(cluster_labels) - {-1}\n",
        "        for clab in unique_labels:\n",
        "            points_in_cluster = arr[cluster_labels == clab]\n",
        "            centroid = points_in_cluster.mean(axis=0)\n",
        "            dists = np.sqrt(((points_in_cluster - centroid)**2).sum(axis=1))\n",
        "            radius = dists.max()\n",
        "            clusters_info.append({\n",
        "                \"centroid\": centroid,\n",
        "                \"radius\": radius\n",
        "            })\n",
        "        dbscan_dict[c] = clusters_info\n",
        "\n",
        "    return dbscan_dict\n"
      ]
    },
    {
      "cell_type": "markdown",
      "metadata": {
        "id": "Gm7PbCCTIwYM"
      },
      "source": [
        "***Wrapping***"
      ]
    },
    {
      "cell_type": "code",
      "execution_count": null,
      "metadata": {
        "id": "s_cTRxgivrVX"
      },
      "outputs": [],
      "source": [
        "class OSRWrapperDBSCAN(nn.Module):\n",
        "    def __init__(self, core_model, dbscan_dict, prob_threshold=0.8, dist_factor=1.0):\n",
        "        \"\"\"\n",
        "        1) If maxProb < prob_threshold => unknown\n",
        "        2) Else find nearest cluster (by centroid) in predicted class -> check distance < radius*dist_factor\n",
        "        \"\"\"\n",
        "        super().__init__()\n",
        "        self.core_model = core_model\n",
        "        self.dbscan_dict = dbscan_dict\n",
        "        self.prob_threshold = prob_threshold\n",
        "        self.dist_factor = dist_factor\n",
        "\n",
        "    def forward(self, x):\n",
        "        emb = self.core_model.forward_features(x)\n",
        "        logits_10 = self.core_model.forward_classifier(emb)\n",
        "        probs_10 = F.softmax(logits_10, dim=1)\n",
        "\n",
        "        out_11 = torch.zeros(x.size(0), 11, device=x.device)\n",
        "        out_11[:, :10] = logits_10\n",
        "\n",
        "        max_probs, pred_c = torch.max(probs_10, dim=1)\n",
        "        emb_np = emb.detach().cpu().numpy()\n",
        "\n",
        "        for i in range(x.size(0)):\n",
        "            p = max_probs[i].item()\n",
        "            c = pred_c[i].item()\n",
        "\n",
        "            if p < self.prob_threshold:\n",
        "                out_11[i, c] = -10.0\n",
        "                out_11[i, 10] = 10.0\n",
        "                continue\n",
        "\n",
        "            clusters_info = self.dbscan_dict[c]\n",
        "            if len(clusters_info) == 0:\n",
        "                out_11[i, c] = -10.0\n",
        "                out_11[i, 10] = 10.0\n",
        "                continue\n",
        "\n",
        "            sample_emb = emb_np[i]\n",
        "            min_dist = 1e9\n",
        "            best_rad = 0.0\n",
        "            for info in clusters_info:\n",
        "                centroid = info[\"centroid\"]\n",
        "                radius = info[\"radius\"]\n",
        "                dist = np.sqrt(((sample_emb - centroid)**2).sum())\n",
        "                if dist < min_dist:\n",
        "                    min_dist = dist\n",
        "                    best_rad = radius\n",
        "\n",
        "            if min_dist > best_rad*self.dist_factor:\n",
        "                out_11[i, c] = -10.0\n",
        "                out_11[i, 10] = 10.0\n",
        "            else:\n",
        "                out_11[i, 10] = -10.0\n",
        "\n",
        "        return out_11"
      ]
    },
    {
      "cell_type": "markdown",
      "metadata": {
        "id": "e0FouooOe5hb"
      },
      "source": [
        "***MNIST: In-Distribution Dataset***"
      ]
    },
    {
      "cell_type": "code",
      "execution_count": null,
      "metadata": {
        "colab": {
          "base_uri": "https://localhost:8080/"
        },
        "id": "pW_vKhDFe4vO",
        "outputId": "bc78dc9a-ab38-4b48-a24f-0c5ecced4ca9"
      },
      "outputs": [
        {
          "output_type": "stream",
          "name": "stdout",
          "text": [
            "MNIST datasets loaded.\n"
          ]
        }
      ],
      "source": [
        "# Transforms for MNIST\n",
        "transform_mnist_train = transforms.Compose([\n",
        "    transforms.Resize((28, 28)),\n",
        "    transforms.RandomRotation(15),\n",
        "    transforms.RandomAffine(0, translate=(0.1, 0.1)),\n",
        "    transforms.ToTensor(),\n",
        "    transforms.Normalize((0.1307,), (0.3081,))\n",
        "])\n",
        "\n",
        "transform_mnist_test = transforms.Compose([\n",
        "    transforms.Resize((28, 28)),\n",
        "    transforms.ToTensor(),\n",
        "    transforms.Normalize((0.1307,), (0.3081,))\n",
        "])\n",
        "\n",
        "# Load MNIST dataset\n",
        "mnist_train_full = MNIST(root='./data', train=True, download=True, transform=transform_mnist_train)\n",
        "mnist_test = MNIST(root='./data', train=False, download=True, transform=transform_mnist_test)\n",
        "\n",
        "# Split MNIST training set into train and validation\n",
        "val_ratio = 0.1\n",
        "train_size = int((1 - val_ratio) * len(mnist_train_full))\n",
        "val_size = len(mnist_train_full) - train_size\n",
        "\n",
        "mnist_train_ds, mnist_val_ds = torch.utils.data.random_split(\n",
        "    mnist_train_full, [train_size, val_size], generator=torch.Generator().manual_seed(SEED))\n",
        "\n",
        "# Override transform for validation set\n",
        "mnist_val_ds.dataset.transform = transform_mnist_test\n",
        "\n",
        "# Create DataLoaders\n",
        "train_loader = DataLoader(mnist_train_ds, batch_size=batch_size, shuffle=True)\n",
        "val_loader = DataLoader(mnist_val_ds, batch_size=batch_size, shuffle=False)\n",
        "mnist_test_loader = DataLoader(mnist_test, batch_size=batch_size, shuffle=False)\n",
        "\n",
        "print(\"MNIST datasets loaded.\")"
      ]
    },
    {
      "cell_type": "markdown",
      "metadata": {
        "id": "xDfouPpQTqe4"
      },
      "source": [
        "***Load ood_dataset and combine***"
      ]
    },
    {
      "cell_type": "code",
      "execution_count": null,
      "metadata": {
        "id": "YL7PWiuihtxO"
      },
      "outputs": [],
      "source": [
        "def load_ood_dataset(ood_test):\n",
        "  # Randomly select OOD samples from the chosen dataset\n",
        "  inds = list(range(len(ood_test)))\n",
        "  random.shuffle(inds)\n",
        "\n",
        "  inds_ood_val = inds[:num_ood_val]\n",
        "  inds_ood_test = inds[num_ood_val: num_ood_val + num_ood_test]\n",
        "\n",
        "  ood_val_ds = Subset(ood_test, inds_ood_val)\n",
        "  ood_test_ds = Subset(ood_test, inds_ood_test)\n",
        "\n",
        "  val_ood_ds = CombineDataset(mnist_val_ds, ood_val_ds)\n",
        "  test_ood_ds = CombineDataset(mnist_test, ood_test_ds)\n",
        "\n",
        "  val_ood_loader = DataLoader(val_ood_ds, batch_size=256, shuffle=False)\n",
        "  test_ood_loader = DataLoader(test_ood_ds, batch_size=256, shuffle=False)\n",
        "\n",
        "  return val_ood_loader, test_ood_loader"
      ]
    },
    {
      "cell_type": "markdown",
      "metadata": {
        "id": "m8SUI4VmTGqE"
      },
      "source": [
        "***Load ood_dataSet***"
      ]
    },
    {
      "cell_type": "code",
      "execution_count": null,
      "metadata": {
        "colab": {
          "base_uri": "https://localhost:8080/"
        },
        "id": "HvwGVVWXfIg9",
        "outputId": "941e67a1-957e-4b6e-cc1d-2cad097648c4"
      },
      "outputs": [
        {
          "output_type": "stream",
          "name": "stdout",
          "text": [
            "Loaded emnist as OOD dataset.\n"
          ]
        }
      ],
      "source": [
        "# Common transformation for CIFAR10, EMNIST, FashionMNIST, and OtherDataset\n",
        "transform_ood = transforms.Compose([\n",
        "    transforms.Resize((28, 28)),\n",
        "    transforms.Grayscale(num_output_channels=1),  # Convert RGB to grayscale\n",
        "    transforms.ToTensor(),\n",
        "    transforms.Normalize((0.1307,), (0.3081,))\n",
        "])\n",
        "\n",
        "# Select which ood to test on\n",
        "# ======================================================================\n",
        "\n",
        "# Load CIFAR10 as OOD dataset\n",
        "# cifar_test = CIFAR10(root='./data', train=False, download=True, transform=transform_ood)\n",
        "# ood_test = cifar_test\n",
        "# ood_title = \"cifar10\"\n",
        "\n",
        "# Load EMNIST as OOD dataset\n",
        "emnist_test = EMNIST(root='./data', split=\"balanced\", train=False, download=True, transform=transform_ood)\n",
        "ood_test = emnist_test\n",
        "ood_title = \"emnist\"\n",
        "\n",
        "# Load fashionMNIST as OOD dataset\n",
        "# fashion_mnist_test = FashionMNIST(root='./data', train=False, download=True, transform=transform_ood)\n",
        "# ood_test = fashion_mnist_test\n",
        "# ood_title = \"fashionMNIST\"\n",
        "\n",
        "# Load USPS as OOD dataset\n",
        "# usps_test = USPS(root='./data', train=False, download=True, transform=transform_ood)\n",
        "# ood_test = usps_test\n",
        "# ood_title = \"usps\"\n",
        "\n",
        "# Load SVHN as OOD dataset\n",
        "# svhn_test = SVHN(root='./data', download=True, transform=transform_ood)\n",
        "# ood_test = svhn_test\n",
        "# ood_title = \"SVHN\"\n",
        "\n",
        "# ======================================================================\n",
        "# Load YOUR_DATASET as OOD dataset\n",
        "# your_dataset_test = YOUR_DATASET(root='./data', train=False, download=True, transform=transform_ood)  # Replace this with your actual dataset\n",
        "# ood_test = your_dataset_test\n",
        "# ood_title = \"YOUR_DATASET\"\n",
        "# ======================================================================\n",
        "\n",
        "val_ood_loader, test_ood_loader = load_ood_dataset(ood_test)\n",
        "print(f\"Loaded {ood_title} as OOD dataset.\")\n"
      ]
    },
    {
      "cell_type": "markdown",
      "metadata": {
        "id": "T41zPZ1EnAQy"
      },
      "source": [
        "***Plot Training and Validation Losses***"
      ]
    },
    {
      "cell_type": "code",
      "execution_count": null,
      "metadata": {
        "id": "J9lNBDipm_Ph"
      },
      "outputs": [],
      "source": [
        "def plot_trainingAndValidationLoss(train_losses, val_losses):\n",
        "    plt.figure(figsize=(8, 5))\n",
        "    plt.plot(range(1, epochs+1), train_losses, label='Train Loss')\n",
        "    plt.plot(range(1, epochs+1), val_losses, label='Validation Loss')\n",
        "    plt.xlabel('Epoch')\n",
        "    plt.ylabel('Loss')\n",
        "    plt.title('Training and Validation Loss')\n",
        "    plt.legend()\n",
        "    plt.show()"
      ]
    },
    {
      "cell_type": "markdown",
      "metadata": {
        "id": "L6wgt1UqUAye"
      },
      "source": [
        "***Train and Evaluate stage***"
      ]
    },
    {
      "cell_type": "code",
      "execution_count": null,
      "metadata": {
        "colab": {
          "base_uri": "https://localhost:8080/"
        },
        "id": "m2apW4VXZyEk",
        "outputId": "02243d1c-ba6c-4794-d1d8-d4d81b479d99"
      },
      "outputs": [
        {
          "output_type": "stream",
          "name": "stdout",
          "text": [
            "Loaded weights from mnist_cnn_triplet_dbscan_tuning.pth\n"
          ]
        },
        {
          "output_type": "stream",
          "name": "stderr",
          "text": [
            "<ipython-input-186-404b9c3bed3d>:30: FutureWarning: You are using `torch.load` with `weights_only=False` (the current default value), which uses the default pickle module implicitly. It is possible to construct malicious pickle data which will execute arbitrary code during unpickling (See https://github.com/pytorch/pytorch/blob/main/SECURITY.md#untrusted-models for more details). In a future release, the default value for `weights_only` will be flipped to `True`. This limits the functions that could be executed during unpickling. Arbitrary objects will no longer be allowed to be loaded via this mode unless they are explicitly allowlisted by the user via `torch.serialization.add_safe_globals`. We recommend you start setting `weights_only=True` for any use case where you don't have full control of the loaded file. Please open an issue on GitHub for any issues related to this experimental feature.\n",
            "  core_model.load_state_dict(torch.load(\"mnist_cnn_triplet_dbscan_tuning.pth\", map_location=device))\n"
          ]
        }
      ],
      "source": [
        "core_model = CNN_EmbeddingNet_Triplet(embedding_dim=embedding_dim, dropout_p=0.35).to(device)\n",
        "optimizer = optim.Adam(core_model.parameters(), lr=lr)\n",
        "ce_criterion = nn.CrossEntropyLoss()\n",
        "\n",
        "# Lists to store training and validation losses for plotting\n",
        "train_losses = []\n",
        "val_losses = []\n",
        "\n",
        "if not eval_mode:\n",
        "    print(\"=== Training CNN Embedding Model (Triplet+CE) on MNIST ===\")\n",
        "    for ep in range(1, epochs+1):\n",
        "        total_loss, ce_val, trip_val, train_acc = train_one_epoch_triplet(\n",
        "            core_model, train_loader, optimizer, ce_criterion,\n",
        "            triplet_margin=1.0, alpha=triplet_alpha\n",
        "        )\n",
        "        val_loss, val_acc = evaluate_classifier(core_model, val_loader, ce_criterion)\n",
        "\n",
        "        train_losses.append(total_loss)\n",
        "        val_losses.append(val_loss)\n",
        "\n",
        "        print(f\"Epoch {ep}/{epochs} | \"\n",
        "              f\"TrainLoss={total_loss:.4f} (CE={ce_val:.4f}, T={trip_val:.4f}), \"\n",
        "              f\"Acc={train_acc:.4f} | ValLoss={val_loss:.4f}, ValAcc={val_acc:.4f}\")\n",
        "\n",
        "    torch.save(core_model.state_dict(), \"mnist_cnn_triplet_dbscan_tuning.pth\")\n",
        "    print(\"Saved weights to mnist_cnn_triplet_dbscan_tuning.pth\")\n",
        "\n",
        "    plot_trainingAndValidationLoss(train_losses, val_losses)\n",
        "else:\n",
        "    core_model.load_state_dict(torch.load(\"mnist_cnn_triplet_dbscan_tuning.pth\", map_location=device))\n",
        "    print(\"Loaded weights from mnist_cnn_triplet_dbscan_tuning.pth\")\n",
        "\n"
      ]
    },
    {
      "cell_type": "markdown",
      "metadata": {
        "id": "Z5RQ9-IeUIVb"
      },
      "source": [
        "***Hyperparameter Tuning***"
      ]
    },
    {
      "cell_type": "code",
      "execution_count": null,
      "metadata": {
        "colab": {
          "base_uri": "https://localhost:8080/"
        },
        "id": "RdIPtbCRWLBj",
        "outputId": "acd546d9-318f-474f-e813-ed9a799b6554"
      },
      "outputs": [
        {
          "output_type": "stream",
          "name": "stdout",
          "text": [
            "Loaded weights from mnist_cnn_triplet_dbscan_tuning.pth\n"
          ]
        },
        {
          "output_type": "stream",
          "name": "stderr",
          "text": [
            "<ipython-input-187-757a1a73e9d2>:6: FutureWarning: You are using `torch.load` with `weights_only=False` (the current default value), which uses the default pickle module implicitly. It is possible to construct malicious pickle data which will execute arbitrary code during unpickling (See https://github.com/pytorch/pytorch/blob/main/SECURITY.md#untrusted-models for more details). In a future release, the default value for `weights_only` will be flipped to `True`. This limits the functions that could be executed during unpickling. Arbitrary objects will no longer be allowed to be loaded via this mode unless they are explicitly allowlisted by the user via `torch.serialization.add_safe_globals`. We recommend you start setting `weights_only=True` for any use case where you don't have full control of the loaded file. Please open an issue on GitHub for any issues related to this experimental feature.\n",
            "  core_model.load_state_dict(torch.load(\"mnist_cnn_triplet_dbscan_tuning.pth\", map_location=device))\n"
          ]
        }
      ],
      "source": [
        "if eval_mode:\n",
        "    eps_best=2.5\n",
        "    min_s_best=9\n",
        "    prob_best=0.6\n",
        "    dist_f_best=1\n",
        "    core_model.load_state_dict(torch.load(\"mnist_cnn_triplet_dbscan_tuning.pth\", map_location=device))\n",
        "    print(\"Loaded weights from mnist_cnn_triplet_dbscan_tuning.pth\")\n",
        "\n",
        "else:\n",
        "    eps_grid = [1.5, 2.0, 2.5]\n",
        "    min_samples_grid = [3, 5, 7, 9]\n",
        "    prob_grid = [0.6, 0.9]\n",
        "    dist_factor_grid = [0.8, 1.0, 1.2]\n",
        "\n",
        "    best_config = None\n",
        "    best_acc = 0.0\n",
        "\n",
        "    print(\"\\n=== Hyperparameter Tuning over DBSCAN + prob_threshold + dist_factor ===\")\n",
        "    for eps_val in eps_grid:\n",
        "        for min_s in min_samples_grid:\n",
        "            # compute DBSCAN clusters for current combination\n",
        "            dbscan_dict = compute_dbscan_clusters(core_model, mnist_train_ds, eps=eps_val, min_samples=min_s)\n",
        "            for prob_t in prob_grid:\n",
        "                for dist_f in dist_factor_grid:\n",
        "                    # build a wrapper model\n",
        "                    temp_model = OSRWrapperDBSCAN(\n",
        "                        core_model,\n",
        "                        dbscan_dict,\n",
        "                        prob_threshold=prob_t,\n",
        "                        dist_factor=dist_f\n",
        "                    ).to(device)\n",
        "\n",
        "                    acc_mnist, acc_ood, acc_total = eval_model(temp_model, val_ood_loader, device)\n",
        "\n",
        "                    if acc_total > best_acc:\n",
        "                        best_acc = acc_total\n",
        "                        best_config = (eps_val, min_s, prob_t, dist_f)\n",
        "                        print(f\"New best: eps={eps_val}, minS={min_s}, prob={prob_t}, distF={dist_f}, valAcc={acc_total*100:.2f}%\")\n",
        "\n",
        "    eps_best, min_s_best, prob_best, dist_f_best = best_config\n",
        "    print(f\"\\nBest config = eps={eps_best}, min_samples={min_s_best}, prob={prob_best}, dist_factor={dist_f_best}, valAcc={best_acc*100:.2f}%\")\n"
      ]
    },
    {
      "cell_type": "markdown",
      "metadata": {
        "id": "Y0amxo_PUPFN"
      },
      "source": [
        "***Final Evaluation***"
      ]
    },
    {
      "cell_type": "code",
      "execution_count": null,
      "metadata": {
        "colab": {
          "base_uri": "https://localhost:8080/"
        },
        "id": "1XYRFE-TwDpk",
        "outputId": "ecc18bb6-9fbf-4b68-edfd-7851a3628dfb"
      },
      "outputs": [
        {
          "output_type": "stream",
          "name": "stdout",
          "text": [
            "\n",
            "=== Final OSR (with best config) on Test ===\n",
            "Accuracy on MNIST: 96.36%\n",
            "Accuracy on OOD (emnist):   78.80%\n",
            "Total Accuracy:    94.76%\n",
            "Done.\n"
          ]
        }
      ],
      "source": [
        "#  compute DBSCAN again with best config, and evaluate on test set\n",
        "dbscan_dict_final = compute_dbscan_clusters(core_model, mnist_train_ds, eps=eps_best, min_samples=min_s_best)\n",
        "final_model = OSRWrapperDBSCAN(core_model, dbscan_dict_final, prob_threshold=prob_best, dist_factor=dist_f_best).to(device)\n",
        "\n",
        "acc_mnist_test, acc_ood_test, acc_total_test = eval_model(final_model, test_ood_loader, device)\n",
        "print(\"\\n=== Final OSR (with best config) on Test ===\")\n",
        "print(f\"Accuracy on MNIST: {acc_mnist_test*100:.2f}%\")\n",
        "print(f\"Accuracy on OOD ({ood_title}):   {acc_ood_test*100:.2f}%\")\n",
        "print(f\"Total Accuracy:    {acc_total_test*100:.2f}%\")\n",
        "\n",
        "print(\"Done.\")\n"
      ]
    },
    {
      "cell_type": "markdown",
      "metadata": {
        "id": "8WnxA-5kliWK"
      },
      "source": [
        "***Confusion Matrix for 11 classes (0-9 + Unknown)***"
      ]
    },
    {
      "cell_type": "code",
      "execution_count": null,
      "metadata": {
        "colab": {
          "base_uri": "https://localhost:8080/",
          "height": 564
        },
        "id": "jhR9-_znnRCw",
        "outputId": "6a533c36-f70d-4b11-b492-ec6a870a6c52"
      },
      "outputs": [
        {
          "output_type": "display_data",
          "data": {
            "text/plain": [
              "<Figure size 800x600 with 2 Axes>"
            ],
            "image/png": "[encoded data removed]"
          },
          "metadata": {}
        }
      ],
      "source": [
        "final_model.eval()\n",
        "all_preds = []\n",
        "all_labels = []\n",
        "with torch.no_grad():\n",
        "    for data, labels in test_ood_loader:\n",
        "        data, labels = data.to(device), labels.to(device)\n",
        "        outputs = final_model(data)\n",
        "        _, preds = torch.max(outputs, dim=1)\n",
        "        all_preds.append(preds.cpu().numpy())\n",
        "        all_labels.append(labels.cpu().numpy())\n",
        "all_preds = np.concatenate(all_preds)\n",
        "all_labels = np.concatenate(all_labels)\n",
        "\n",
        "cm_11 = confusion_matrix(all_labels, all_preds, labels=list(range(10)) + [10])\n",
        "plt.figure(figsize=(8, 6))\n",
        "sns.heatmap(cm_11, annot=True, fmt='d', cmap='Blues',\n",
        "            xticklabels=list(range(10)) + ['Unknown'],\n",
        "            yticklabels=list(range(10)) + ['Unknown'])\n",
        "plt.xlabel('Predicted')\n",
        "plt.ylabel('True')\n",
        "plt.title('Confusion Matrix (11 Classes)')\n",
        "plt.show()"
      ]
    },
    {
      "cell_type": "markdown",
      "metadata": {
        "id": "MXuKnIvqnqW5"
      },
      "source": [
        "***Binary Confusion Matrix (Known vs Unknown)***"
      ]
    },
    {
      "cell_type": "code",
      "execution_count": null,
      "metadata": {
        "colab": {
          "base_uri": "https://localhost:8080/",
          "height": 487
        },
        "id": "le1AqOIqnqpe",
        "outputId": "b99868f6-6e69-4719-86b8-01cdd1159af1"
      },
      "outputs": [
        {
          "output_type": "display_data",
          "data": {
            "text/plain": [
              "<Figure size 600x500 with 2 Axes>"
            ],
            "image/png": "[encoded data removed]"
          },
          "metadata": {}
        }
      ],
      "source": [
        "binary_preds = np.where(all_preds < 10, 0, 1)\n",
        "binary_labels = np.where(all_labels < 10, 0, 1)\n",
        "cm_bin = confusion_matrix(binary_labels, binary_preds, labels=[0, 1])\n",
        "plt.figure(figsize=(6, 5))\n",
        "sns.heatmap(cm_bin, annot=True, fmt='d', cmap='Greens',\n",
        "            xticklabels=['Known', 'Unknown'],\n",
        "            yticklabels=['Known', 'Unknown'])\n",
        "plt.xlabel('Predicted')\n",
        "plt.ylabel('True')\n",
        "plt.title('Binary Confusion Matrix (Known vs Unknown)')\n",
        "plt.show()"
      ]
    },
    {
      "cell_type": "markdown",
      "metadata": {
        "id": "FmBxgSe3nq2P"
      },
      "source": [
        "***t-SNE Visualization of Embeddings from Test Set***"
      ]
    },
    {
      "cell_type": "code",
      "execution_count": null,
      "metadata": {
        "colab": {
          "base_uri": "https://localhost:8080/",
          "height": 373
        },
        "id": "niAXErLZnrOo",
        "outputId": "9694f84c-a03b-47b1-c908-a0044df4d3bc"
      },
      "outputs": [
        {
          "output_type": "error",
          "ename": "KeyboardInterrupt",
          "evalue": "",
          "traceback": [
            "\u001b[0;31m---------------------------------------------------------------------------\u001b[0m",
            "\u001b[0;31mKeyboardInterrupt\u001b[0m                         Traceback (most recent call last)",
            "\u001b[0;32m<ipython-input-155-b584272c2c82>\u001b[0m in \u001b[0;36m<cell line: 0>\u001b[0;34m()\u001b[0m\n\u001b[1;32m     11\u001b[0m \u001b[0;34m\u001b[0m\u001b[0m\n\u001b[1;32m     12\u001b[0m \u001b[0mtsne\u001b[0m \u001b[0;34m=\u001b[0m \u001b[0mTSNE\u001b[0m\u001b[0;34m(\u001b[0m\u001b[0mn_components\u001b[0m\u001b[0;34m=\u001b[0m\u001b[0;36m2\u001b[0m\u001b[0;34m,\u001b[0m \u001b[0mrandom_state\u001b[0m\u001b[0;34m=\u001b[0m\u001b[0;36m42\u001b[0m\u001b[0;34m)\u001b[0m\u001b[0;34m\u001b[0m\u001b[0;34m\u001b[0m\u001b[0m\n\u001b[0;32m---> 13\u001b[0;31m \u001b[0membeddings_2d\u001b[0m \u001b[0;34m=\u001b[0m \u001b[0mtsne\u001b[0m\u001b[0;34m.\u001b[0m\u001b[0mfit_transform\u001b[0m\u001b[0;34m(\u001b[0m\u001b[0mall_embeddings\u001b[0m\u001b[0;34m)\u001b[0m\u001b[0;34m\u001b[0m\u001b[0;34m\u001b[0m\u001b[0m\n\u001b[0m\u001b[1;32m     14\u001b[0m \u001b[0;34m\u001b[0m\u001b[0m\n\u001b[1;32m     15\u001b[0m \u001b[0mplt\u001b[0m\u001b[0;34m.\u001b[0m\u001b[0mfigure\u001b[0m\u001b[0;34m(\u001b[0m\u001b[0mfigsize\u001b[0m\u001b[0;34m=\u001b[0m\u001b[0;34m(\u001b[0m\u001b[0;36m8\u001b[0m\u001b[0;34m,\u001b[0m \u001b[0;36m6\u001b[0m\u001b[0;34m)\u001b[0m\u001b[0;34m)\u001b[0m\u001b[0;34m\u001b[0m\u001b[0;34m\u001b[0m\u001b[0m\n",
            "\u001b[0;32m/usr/local/lib/python3.11/dist-packages/sklearn/utils/_set_output.py\u001b[0m in \u001b[0;36mwrapped\u001b[0;34m(self, X, *args, **kwargs)\u001b[0m\n\u001b[1;32m    317\u001b[0m     \u001b[0;34m@\u001b[0m\u001b[0mwraps\u001b[0m\u001b[0;34m(\u001b[0m\u001b[0mf\u001b[0m\u001b[0;34m)\u001b[0m\u001b[0;34m\u001b[0m\u001b[0;34m\u001b[0m\u001b[0m\n\u001b[1;32m    318\u001b[0m     \u001b[0;32mdef\u001b[0m \u001b[0mwrapped\u001b[0m\u001b[0;34m(\u001b[0m\u001b[0mself\u001b[0m\u001b[0;34m,\u001b[0m \u001b[0mX\u001b[0m\u001b[0;34m,\u001b[0m \u001b[0;34m*\u001b[0m\u001b[0margs\u001b[0m\u001b[0;34m,\u001b[0m \u001b[0;34m**\u001b[0m\u001b[0mkwargs\u001b[0m\u001b[0;34m)\u001b[0m\u001b[0;34m:\u001b[0m\u001b[0;34m\u001b[0m\u001b[0;34m\u001b[0m\u001b[0m\n\u001b[0;32m--> 319\u001b[0;31m         \u001b[0mdata_to_wrap\u001b[0m \u001b[0;34m=\u001b[0m \u001b[0mf\u001b[0m\u001b[0;34m(\u001b[0m\u001b[0mself\u001b[0m\u001b[0;34m,\u001b[0m \u001b[0mX\u001b[0m\u001b[0;34m,\u001b[0m \u001b[0;34m*\u001b[0m\u001b[0margs\u001b[0m\u001b[0;34m,\u001b[0m \u001b[0;34m**\u001b[0m\u001b[0mkwargs\u001b[0m\u001b[0;34m)\u001b[0m\u001b[0;34m\u001b[0m\u001b[0;34m\u001b[0m\u001b[0m\n\u001b[0m\u001b[1;32m    320\u001b[0m         \u001b[0;32mif\u001b[0m \u001b[0misinstance\u001b[0m\u001b[0;34m(\u001b[0m\u001b[0mdata_to_wrap\u001b[0m\u001b[0;34m,\u001b[0m \u001b[0mtuple\u001b[0m\u001b[0;34m)\u001b[0m\u001b[0;34m:\u001b[0m\u001b[0;34m\u001b[0m\u001b[0;34m\u001b[0m\u001b[0m\n\u001b[1;32m    321\u001b[0m             \u001b[0;31m# only wrap the first output for cross decomposition\u001b[0m\u001b[0;34m\u001b[0m\u001b[0;34m\u001b[0m\u001b[0m\n",
            "\u001b[0;32m/usr/local/lib/python3.11/dist-packages/sklearn/base.py\u001b[0m in \u001b[0;36mwrapper\u001b[0;34m(estimator, *args, **kwargs)\u001b[0m\n\u001b[1;32m   1387\u001b[0m                 )\n\u001b[1;32m   1388\u001b[0m             ):\n\u001b[0;32m-> 1389\u001b[0;31m                 \u001b[0;32mreturn\u001b[0m \u001b[0mfit_method\u001b[0m\u001b[0;34m(\u001b[0m\u001b[0mestimator\u001b[0m\u001b[0;34m,\u001b[0m \u001b[0;34m*\u001b[0m\u001b[0margs\u001b[0m\u001b[0;34m,\u001b[0m \u001b[0;34m**\u001b[0m\u001b[0mkwargs\u001b[0m\u001b[0;34m)\u001b[0m\u001b[0;34m\u001b[0m\u001b[0;34m\u001b[0m\u001b[0m\n\u001b[0m\u001b[1;32m   1390\u001b[0m \u001b[0;34m\u001b[0m\u001b[0m\n\u001b[1;32m   1391\u001b[0m         \u001b[0;32mreturn\u001b[0m \u001b[0mwrapper\u001b[0m\u001b[0;34m\u001b[0m\u001b[0;34m\u001b[0m\u001b[0m\n",
            "\u001b[0;32m/usr/local/lib/python3.11/dist-packages/sklearn/manifold/_t_sne.py\u001b[0m in \u001b[0;36mfit_transform\u001b[0;34m(self, X, y)\u001b[0m\n\u001b[1;32m   1176\u001b[0m \u001b[0;34m\u001b[0m\u001b[0m\n\u001b[1;32m   1177\u001b[0m         \u001b[0mself\u001b[0m\u001b[0;34m.\u001b[0m\u001b[0m_check_params_vs_input\u001b[0m\u001b[0;34m(\u001b[0m\u001b[0mX\u001b[0m\u001b[0;34m)\u001b[0m\u001b[0;34m\u001b[0m\u001b[0;34m\u001b[0m\u001b[0m\n\u001b[0;32m-> 1178\u001b[0;31m         \u001b[0membedding\u001b[0m \u001b[0;34m=\u001b[0m \u001b[0mself\u001b[0m\u001b[0;34m.\u001b[0m\u001b[0m_fit\u001b[0m\u001b[0;34m(\u001b[0m\u001b[0mX\u001b[0m\u001b[0;34m)\u001b[0m\u001b[0;34m\u001b[0m\u001b[0;34m\u001b[0m\u001b[0m\n\u001b[0m\u001b[1;32m   1179\u001b[0m         \u001b[0mself\u001b[0m\u001b[0;34m.\u001b[0m\u001b[0membedding_\u001b[0m \u001b[0;34m=\u001b[0m \u001b[0membedding\u001b[0m\u001b[0;34m\u001b[0m\u001b[0;34m\u001b[0m\u001b[0m\n\u001b[1;32m   1180\u001b[0m         \u001b[0;32mreturn\u001b[0m \u001b[0mself\u001b[0m\u001b[0;34m.\u001b[0m\u001b[0membedding_\u001b[0m\u001b[0;34m\u001b[0m\u001b[0;34m\u001b[0m\u001b[0m\n",
            "\u001b[0;32m/usr/local/lib/python3.11/dist-packages/sklearn/manifold/_t_sne.py\u001b[0m in \u001b[0;36m_fit\u001b[0;34m(self, X, skip_num_points)\u001b[0m\n\u001b[1;32m   1044\u001b[0m         \u001b[0mdegrees_of_freedom\u001b[0m \u001b[0;34m=\u001b[0m \u001b[0mmax\u001b[0m\u001b[0;34m(\u001b[0m\u001b[0mself\u001b[0m\u001b[0;34m.\u001b[0m\u001b[0mn_components\u001b[0m \u001b[0;34m-\u001b[0m \u001b[0;36m1\u001b[0m\u001b[0;34m,\u001b[0m \u001b[0;36m1\u001b[0m\u001b[0;34m)\u001b[0m\u001b[0;34m\u001b[0m\u001b[0;34m\u001b[0m\u001b[0m\n\u001b[1;32m   1045\u001b[0m \u001b[0;34m\u001b[0m\u001b[0m\n\u001b[0;32m-> 1046\u001b[0;31m         return self._tsne(\n\u001b[0m\u001b[1;32m   1047\u001b[0m             \u001b[0mP\u001b[0m\u001b[0;34m,\u001b[0m\u001b[0;34m\u001b[0m\u001b[0;34m\u001b[0m\u001b[0m\n\u001b[1;32m   1048\u001b[0m             \u001b[0mdegrees_of_freedom\u001b[0m\u001b[0;34m,\u001b[0m\u001b[0;34m\u001b[0m\u001b[0;34m\u001b[0m\u001b[0m\n",
            "\u001b[0;32m/usr/local/lib/python3.11/dist-packages/sklearn/manifold/_t_sne.py\u001b[0m in \u001b[0;36m_tsne\u001b[0;34m(self, P, degrees_of_freedom, n_samples, X_embedded, neighbors, skip_num_points)\u001b[0m\n\u001b[1;32m   1096\u001b[0m         \u001b[0;31m# higher learning rate controlled via the early exaggeration parameter\u001b[0m\u001b[0;34m\u001b[0m\u001b[0;34m\u001b[0m\u001b[0m\n\u001b[1;32m   1097\u001b[0m         \u001b[0mP\u001b[0m \u001b[0;34m*=\u001b[0m \u001b[0mself\u001b[0m\u001b[0;34m.\u001b[0m\u001b[0mearly_exaggeration\u001b[0m\u001b[0;34m\u001b[0m\u001b[0;34m\u001b[0m\u001b[0m\n\u001b[0;32m-> 1098\u001b[0;31m         \u001b[0mparams\u001b[0m\u001b[0;34m,\u001b[0m \u001b[0mkl_divergence\u001b[0m\u001b[0;34m,\u001b[0m \u001b[0mit\u001b[0m \u001b[0;34m=\u001b[0m \u001b[0m_gradient_descent\u001b[0m\u001b[0;34m(\u001b[0m\u001b[0mobj_func\u001b[0m\u001b[0;34m,\u001b[0m \u001b[0mparams\u001b[0m\u001b[0;34m,\u001b[0m \u001b[0;34m**\u001b[0m\u001b[0mopt_args\u001b[0m\u001b[0;34m)\u001b[0m\u001b[0;34m\u001b[0m\u001b[0;34m\u001b[0m\u001b[0m\n\u001b[0m\u001b[1;32m   1099\u001b[0m         \u001b[0;32mif\u001b[0m \u001b[0mself\u001b[0m\u001b[0;34m.\u001b[0m\u001b[0mverbose\u001b[0m\u001b[0;34m:\u001b[0m\u001b[0;34m\u001b[0m\u001b[0;34m\u001b[0m\u001b[0m\n\u001b[1;32m   1100\u001b[0m             print(\n",
            "\u001b[0;32m/usr/local/lib/python3.11/dist-packages/sklearn/manifold/_t_sne.py\u001b[0m in \u001b[0;36m_gradient_descent\u001b[0;34m(objective, p0, it, max_iter, n_iter_check, n_iter_without_progress, momentum, learning_rate, min_gain, min_grad_norm, verbose, args, kwargs)\u001b[0m\n\u001b[1;32m    399\u001b[0m         \u001b[0mkwargs\u001b[0m\u001b[0;34m[\u001b[0m\u001b[0;34m\"compute_error\"\u001b[0m\u001b[0;34m]\u001b[0m \u001b[0;34m=\u001b[0m \u001b[0mcheck_convergence\u001b[0m \u001b[0;32mor\u001b[0m \u001b[0mi\u001b[0m \u001b[0;34m==\u001b[0m \u001b[0mmax_iter\u001b[0m \u001b[0;34m-\u001b[0m \u001b[0;36m1\u001b[0m\u001b[0;34m\u001b[0m\u001b[0;34m\u001b[0m\u001b[0m\n\u001b[1;32m    400\u001b[0m \u001b[0;34m\u001b[0m\u001b[0m\n\u001b[0;32m--> 401\u001b[0;31m         \u001b[0merror\u001b[0m\u001b[0;34m,\u001b[0m \u001b[0mgrad\u001b[0m \u001b[0;34m=\u001b[0m \u001b[0mobjective\u001b[0m\u001b[0;34m(\u001b[0m\u001b[0mp\u001b[0m\u001b[0;34m,\u001b[0m \u001b[0;34m*\u001b[0m\u001b[0margs\u001b[0m\u001b[0;34m,\u001b[0m \u001b[0;34m**\u001b[0m\u001b[0mkwargs\u001b[0m\u001b[0;34m)\u001b[0m\u001b[0;34m\u001b[0m\u001b[0;34m\u001b[0m\u001b[0m\n\u001b[0m\u001b[1;32m    402\u001b[0m \u001b[0;34m\u001b[0m\u001b[0m\n\u001b[1;32m    403\u001b[0m         \u001b[0minc\u001b[0m \u001b[0;34m=\u001b[0m \u001b[0mupdate\u001b[0m \u001b[0;34m*\u001b[0m \u001b[0mgrad\u001b[0m \u001b[0;34m<\u001b[0m \u001b[0;36m0.0\u001b[0m\u001b[0;34m\u001b[0m\u001b[0;34m\u001b[0m\u001b[0m\n",
            "\u001b[0;32m/usr/local/lib/python3.11/dist-packages/sklearn/manifold/_t_sne.py\u001b[0m in \u001b[0;36m_kl_divergence_bh\u001b[0;34m(params, P, degrees_of_freedom, n_samples, n_components, angle, skip_num_points, verbose, compute_error, num_threads)\u001b[0m\n\u001b[1;32m    280\u001b[0m \u001b[0;34m\u001b[0m\u001b[0m\n\u001b[1;32m    281\u001b[0m     \u001b[0mgrad\u001b[0m \u001b[0;34m=\u001b[0m \u001b[0mnp\u001b[0m\u001b[0;34m.\u001b[0m\u001b[0mzeros\u001b[0m\u001b[0;34m(\u001b[0m\u001b[0mX_embedded\u001b[0m\u001b[0;34m.\u001b[0m\u001b[0mshape\u001b[0m\u001b[0;34m,\u001b[0m \u001b[0mdtype\u001b[0m\u001b[0;34m=\u001b[0m\u001b[0mnp\u001b[0m\u001b[0;34m.\u001b[0m\u001b[0mfloat32\u001b[0m\u001b[0;34m)\u001b[0m\u001b[0;34m\u001b[0m\u001b[0;34m\u001b[0m\u001b[0m\n\u001b[0;32m--> 282\u001b[0;31m     error = _barnes_hut_tsne.gradient(\n\u001b[0m\u001b[1;32m    283\u001b[0m         \u001b[0mval_P\u001b[0m\u001b[0;34m,\u001b[0m\u001b[0;34m\u001b[0m\u001b[0;34m\u001b[0m\u001b[0m\n\u001b[1;32m    284\u001b[0m         \u001b[0mX_embedded\u001b[0m\u001b[0;34m,\u001b[0m\u001b[0;34m\u001b[0m\u001b[0;34m\u001b[0m\u001b[0m\n",
            "\u001b[0;31mKeyboardInterrupt\u001b[0m: "
          ]
        }
      ],
      "source": [
        "all_embeddings = []\n",
        "all_labels_emb = []\n",
        "with torch.no_grad():\n",
        "    for data, labels in test_ood_loader:\n",
        "        data, labels = data.to(device), labels.to(device)\n",
        "        emb = final_model.core_model.forward_features(data)\n",
        "        all_embeddings.append(emb.cpu().numpy())\n",
        "        all_labels_emb.append(labels.cpu().numpy())\n",
        "all_embeddings = np.concatenate(all_embeddings)\n",
        "all_labels_emb = np.concatenate(all_labels_emb)\n",
        "\n",
        "tsne = TSNE(n_components=2, random_state=42)\n",
        "embeddings_2d = tsne.fit_transform(all_embeddings)\n",
        "\n",
        "plt.figure(figsize=(8, 6))\n",
        "colors = plt.cm.tab10(np.linspace(0, 1, 10))\n",
        "colors = np.vstack([colors, np.array([0.5, 0.5, 0.5, 1])])  # Color for Unknown\n",
        "for label in np.unique(all_labels_emb):\n",
        "    idx = all_labels_emb == label\n",
        "    plt.scatter(embeddings_2d[idx, 0], embeddings_2d[idx, 1],\n",
        "                color=colors[label] if label < 10 else colors[-1],\n",
        "                label=str(label) if label < 10 else 'Unknown',\n",
        "                alpha=0.6)\n",
        "plt.legend()\n",
        "plt.title('t-SNE Visualization of Embeddings')\n",
        "plt.xlabel('t-SNE Dimension 1')\n",
        "plt.ylabel('t-SNE Dimension 2')\n",
        "plt.show()"
      ]
    }
  ],
  "metadata": {
    "accelerator": "GPU",
    "colab": {
      "gpuType": "T4",
      "provenance": [],
      "include_colab_link": true
    },
    "kernelspec": {
      "display_name": "Python 3",
      "name": "python3"
    },
    "language_info": {
      "name": "python"
    }
  },
  "nbformat": 4,
  "nbformat_minor": 0
}